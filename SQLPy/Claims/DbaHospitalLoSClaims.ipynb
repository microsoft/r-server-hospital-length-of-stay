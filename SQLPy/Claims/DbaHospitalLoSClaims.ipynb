{
    "metadata": {
        "kernelspec": {
            "name": "SQL",
            "display_name": "SQL",
            "language": "sql"
        },
        "language_info": {
            "name": "sql",
            "version": ""
        }
    },
    "nbformat_minor": 2,
    "nbformat": 4,
    "cells": [
        {
            "cell_type": "code",
            "source": [
                "if db_id('Hospital_Py') is null create database Hospital_Py;"
            ],
            "metadata": {
                "azdata_cell_guid": "6b12bebc-aeaf-476e-a4a5-bb2dcaec6ee0"
            },
            "outputs": [
                {
                    "output_type": "display_data",
                    "data": {
                        "text/html": "Commands completed successfully."
                    },
                    "metadata": {}
                },
                {
                    "output_type": "display_data",
                    "data": {
                        "text/html": "Total execution time: 00:00:00.674"
                    },
                    "metadata": {}
                }
            ],
            "execution_count": 2
        },
        {
            "cell_type": "code",
            "source": [
                "USE [Hospital_Py]"
            ],
            "metadata": {
                "azdata_cell_guid": "1a21e7f3-a372-4541-84d8-96b95cfbb4e7"
            },
            "outputs": [
                {
                    "output_type": "display_data",
                    "data": {
                        "text/html": "Commands completed successfully."
                    },
                    "metadata": {}
                },
                {
                    "output_type": "display_data",
                    "data": {
                        "text/html": "Total execution time: 00:00:00.872"
                    },
                    "metadata": {}
                }
            ],
            "execution_count": 1
        },
        {
            "cell_type": "markdown",
            "source": [
                "#### Note: Steps to configure instance (enable spees + clr) and grant SQLRGroup access completed prior. (Ref: [ActionScripts](https://github.com/microsoft/r-server-hospital-length-of-stay/tree/master/Resources/ActionScripts))\n",
                "\n",
                "## [Step 0](https://microsoft.github.io/r-server-hospital-length-of-stay/dba.html)\n",
                "\n",
                "##### Create objects, load data, compute stats."
            ],
            "metadata": {
                "azdata_cell_guid": "b0cb0b87-ad6e-4169-9b44-8fdfcaf64312"
            }
        },
        {
            "cell_type": "code",
            "source": [
                "set nocount on;\r\n",
                "exec dbo.compute_stats\r\n",
                "select * from stats\r\n",
                "select * from statsbak"
            ],
            "metadata": {
                "azdata_cell_guid": "351f5452-95a0-42d2-a9b2-fd54e4470745"
            },
            "outputs": [
                {
                    "output_type": "display_data",
                    "data": {
                        "text/html": "Commands completed successfully."
                    },
                    "metadata": {}
                },
                {
                    "output_type": "display_data",
                    "data": {
                        "text/html": "Total execution time: 00:00:00.411"
                    },
                    "metadata": {}
                },
                {
                    "output_type": "execute_result",
                    "execution_count": 34,
                    "data": {
                        "application/vnd.dataresource+json": {
                            "schema": {
                                "fields": [
                                    {
                                        "name": "variable_name"
                                    },
                                    {
                                        "name": "type"
                                    },
                                    {
                                        "name": "mode"
                                    },
                                    {
                                        "name": "mean"
                                    },
                                    {
                                        "name": "std"
                                    }
                                ]
                            },
                            "data": [
                                {
                                    "0": "ClaimClaimStatusID",
                                    "1": "int",
                                    "2": "2",
                                    "3": "NULL",
                                    "4": "NULL"
                                },
                                {
                                    "0": "ClaimStatusDescription",
                                    "1": "varchar",
                                    "2": "Closed",
                                    "3": "NULL",
                                    "4": "NULL"
                                },
                                {
                                    "0": "StatesStateCode",
                                    "1": "varchar",
                                    "2": "FL",
                                    "3": "NULL",
                                    "4": "NULL"
                                },
                                {
                                    "0": "ClaimRoomsWithDamage",
                                    "1": "smallint",
                                    "2": "0",
                                    "3": "1",
                                    "4": "1.3240661742950535"
                                },
                                {
                                    "0": "LossTypeDescription",
                                    "1": "varchar",
                                    "2": "Wind",
                                    "3": "NULL",
                                    "4": "NULL"
                                },
                                {
                                    "0": "PolicyVersionAttributesFormType",
                                    "1": "varchar",
                                    "2": "HO3",
                                    "3": "NULL",
                                    "4": "NULL"
                                },
                                {
                                    "0": "PolicyVersionAttributesOccupancyType",
                                    "1": "varchar",
                                    "2": "Owner",
                                    "3": "NULL",
                                    "4": "NULL"
                                },
                                {
                                    "0": "PolicyVersionAttributesCoverageA",
                                    "1": "float",
                                    "2": "NULL",
                                    "3": "181559.15607599998",
                                    "4": "245711.62649245863"
                                },
                                {
                                    "0": "ClaimMoneyReserve",
                                    "1": "decimal",
                                    "2": "NULL",
                                    "3": "0",
                                    "4": "0"
                                },
                                {
                                    "0": "ClaimMoneyLosses",
                                    "1": "decimal",
                                    "2": "NULL",
                                    "3": "13939.741116",
                                    "4": "32793.82588103388"
                                },
                                {
                                    "0": "ClaimMoneyLAE",
                                    "1": "decimal",
                                    "2": "NULL",
                                    "3": "1545.828469",
                                    "4": "2333.6188373066548"
                                }
                            ]
                        },
                        "text/html": "<table><tr><th>variable_name</th><th>type</th><th>mode</th><th>mean</th><th>std</th></tr><tr><td>ClaimClaimStatusID</td><td>int</td><td>2</td><td>NULL</td><td>NULL</td></tr><tr><td>ClaimStatusDescription</td><td>varchar</td><td>Closed</td><td>NULL</td><td>NULL</td></tr><tr><td>StatesStateCode</td><td>varchar</td><td>FL</td><td>NULL</td><td>NULL</td></tr><tr><td>ClaimRoomsWithDamage</td><td>smallint</td><td>0</td><td>1</td><td>1.3240661742950535</td></tr><tr><td>LossTypeDescription</td><td>varchar</td><td>Wind</td><td>NULL</td><td>NULL</td></tr><tr><td>PolicyVersionAttributesFormType</td><td>varchar</td><td>HO3</td><td>NULL</td><td>NULL</td></tr><tr><td>PolicyVersionAttributesOccupancyType</td><td>varchar</td><td>Owner</td><td>NULL</td><td>NULL</td></tr><tr><td>PolicyVersionAttributesCoverageA</td><td>float</td><td>NULL</td><td>181559.15607599998</td><td>245711.62649245863</td></tr><tr><td>ClaimMoneyReserve</td><td>decimal</td><td>NULL</td><td>0</td><td>0</td></tr><tr><td>ClaimMoneyLosses</td><td>decimal</td><td>NULL</td><td>13939.741116</td><td>32793.82588103388</td></tr><tr><td>ClaimMoneyLAE</td><td>decimal</td><td>NULL</td><td>1545.828469</td><td>2333.6188373066548</td></tr></table>"
                    },
                    "metadata": {}
                },
                {
                    "output_type": "execute_result",
                    "execution_count": 34,
                    "data": {
                        "application/vnd.dataresource+json": {
                            "schema": {
                                "fields": [
                                    {
                                        "name": "variable_name"
                                    },
                                    {
                                        "name": "type"
                                    },
                                    {
                                        "name": "mode"
                                    },
                                    {
                                        "name": "mean"
                                    },
                                    {
                                        "name": "std"
                                    }
                                ]
                            },
                            "data": [
                                {
                                    "0": "rcount",
                                    "1": "varchar",
                                    "2": "0",
                                    "3": "NULL",
                                    "4": "NULL"
                                },
                                {
                                    "0": "gender",
                                    "1": "varchar",
                                    "2": "F",
                                    "3": "NULL",
                                    "4": "NULL"
                                },
                                {
                                    "0": "dialysisrenalendstage",
                                    "1": "varchar",
                                    "2": "0",
                                    "3": "NULL",
                                    "4": "NULL"
                                },
                                {
                                    "0": "asthma",
                                    "1": "varchar",
                                    "2": "0",
                                    "3": "NULL",
                                    "4": "NULL"
                                },
                                {
                                    "0": "irondef",
                                    "1": "varchar",
                                    "2": "0",
                                    "3": "NULL",
                                    "4": "NULL"
                                },
                                {
                                    "0": "pneum",
                                    "1": "varchar",
                                    "2": "0",
                                    "3": "NULL",
                                    "4": "NULL"
                                },
                                {
                                    "0": "substancedependence",
                                    "1": "varchar",
                                    "2": "0",
                                    "3": "NULL",
                                    "4": "NULL"
                                },
                                {
                                    "0": "psychologicaldisordermajor",
                                    "1": "varchar",
                                    "2": "0",
                                    "3": "NULL",
                                    "4": "NULL"
                                },
                                {
                                    "0": "depress",
                                    "1": "varchar",
                                    "2": "0",
                                    "3": "NULL",
                                    "4": "NULL"
                                },
                                {
                                    "0": "psychother",
                                    "1": "varchar",
                                    "2": "0",
                                    "3": "NULL",
                                    "4": "NULL"
                                },
                                {
                                    "0": "fibrosisandother",
                                    "1": "varchar",
                                    "2": "0",
                                    "3": "NULL",
                                    "4": "NULL"
                                },
                                {
                                    "0": "malnutrition",
                                    "1": "varchar",
                                    "2": "0",
                                    "3": "NULL",
                                    "4": "NULL"
                                },
                                {
                                    "0": "hemo",
                                    "1": "varchar",
                                    "2": "0",
                                    "3": "NULL",
                                    "4": "NULL"
                                },
                                {
                                    "0": "hematocrit",
                                    "1": "float",
                                    "2": "NULL",
                                    "3": "11.97593859999955",
                                    "4": "2.031791959390775"
                                },
                                {
                                    "0": "neutrophils",
                                    "1": "float",
                                    "2": "NULL",
                                    "3": "10.177455441672013",
                                    "4": "5.353130953890833"
                                },
                                {
                                    "0": "sodium",
                                    "1": "float",
                                    "2": "NULL",
                                    "3": "137.8913971379217",
                                    "4": "2.999668645699427"
                                },
                                {
                                    "0": "glucose",
                                    "1": "float",
                                    "2": "NULL",
                                    "3": "141.96338406726687",
                                    "4": "29.99299604953295"
                                },
                                {
                                    "0": "bloodureanitro",
                                    "1": "float",
                                    "2": "NULL",
                                    "3": "14.097184619042647",
                                    "4": "12.952454362841966"
                                },
                                {
                                    "0": "creatinine",
                                    "1": "float",
                                    "2": "NULL",
                                    "3": "1.099349876496964",
                                    "4": "0.20026174508687172"
                                },
                                {
                                    "0": "bmi",
                                    "1": "float",
                                    "2": "NULL",
                                    "3": "29.805759307688284",
                                    "4": "2.0037690557449914"
                                },
                                {
                                    "0": "pulse",
                                    "1": "float",
                                    "2": "NULL",
                                    "3": "73.44472",
                                    "4": "11.644554954063345"
                                },
                                {
                                    "0": "respiration",
                                    "1": "float",
                                    "2": "NULL",
                                    "3": "6.493767916666607",
                                    "4": "0.5684729389647267"
                                },
                                {
                                    "0": "secondarydiagnosisnonicd9",
                                    "1": "varchar",
                                    "2": "1",
                                    "3": "NULL",
                                    "4": "NULL"
                                },
                                {
                                    "0": "facid",
                                    "1": "varchar",
                                    "2": "E",
                                    "3": "NULL",
                                    "4": "NULL"
                                }
                            ]
                        },
                        "text/html": "<table><tr><th>variable_name</th><th>type</th><th>mode</th><th>mean</th><th>std</th></tr><tr><td>rcount</td><td>varchar</td><td>0</td><td>NULL</td><td>NULL</td></tr><tr><td>gender</td><td>varchar</td><td>F</td><td>NULL</td><td>NULL</td></tr><tr><td>dialysisrenalendstage</td><td>varchar</td><td>0</td><td>NULL</td><td>NULL</td></tr><tr><td>asthma</td><td>varchar</td><td>0</td><td>NULL</td><td>NULL</td></tr><tr><td>irondef</td><td>varchar</td><td>0</td><td>NULL</td><td>NULL</td></tr><tr><td>pneum</td><td>varchar</td><td>0</td><td>NULL</td><td>NULL</td></tr><tr><td>substancedependence</td><td>varchar</td><td>0</td><td>NULL</td><td>NULL</td></tr><tr><td>psychologicaldisordermajor</td><td>varchar</td><td>0</td><td>NULL</td><td>NULL</td></tr><tr><td>depress</td><td>varchar</td><td>0</td><td>NULL</td><td>NULL</td></tr><tr><td>psychother</td><td>varchar</td><td>0</td><td>NULL</td><td>NULL</td></tr><tr><td>fibrosisandother</td><td>varchar</td><td>0</td><td>NULL</td><td>NULL</td></tr><tr><td>malnutrition</td><td>varchar</td><td>0</td><td>NULL</td><td>NULL</td></tr><tr><td>hemo</td><td>varchar</td><td>0</td><td>NULL</td><td>NULL</td></tr><tr><td>hematocrit</td><td>float</td><td>NULL</td><td>11.97593859999955</td><td>2.031791959390775</td></tr><tr><td>neutrophils</td><td>float</td><td>NULL</td><td>10.177455441672013</td><td>5.353130953890833</td></tr><tr><td>sodium</td><td>float</td><td>NULL</td><td>137.8913971379217</td><td>2.999668645699427</td></tr><tr><td>glucose</td><td>float</td><td>NULL</td><td>141.96338406726687</td><td>29.99299604953295</td></tr><tr><td>bloodureanitro</td><td>float</td><td>NULL</td><td>14.097184619042647</td><td>12.952454362841966</td></tr><tr><td>creatinine</td><td>float</td><td>NULL</td><td>1.099349876496964</td><td>0.20026174508687172</td></tr><tr><td>bmi</td><td>float</td><td>NULL</td><td>29.805759307688284</td><td>2.0037690557449914</td></tr><tr><td>pulse</td><td>float</td><td>NULL</td><td>73.44472</td><td>11.644554954063345</td></tr><tr><td>respiration</td><td>float</td><td>NULL</td><td>6.493767916666607</td><td>0.5684729389647267</td></tr><tr><td>secondarydiagnosisnonicd9</td><td>varchar</td><td>1</td><td>NULL</td><td>NULL</td></tr><tr><td>facid</td><td>varchar</td><td>E</td><td>NULL</td><td>NULL</td></tr></table>"
                    },
                    "metadata": {}
                }
            ],
            "execution_count": 34
        },
        {
            "cell_type": "code",
            "source": [
                "-- runs all steps below. preprocessing, clearnin, feature engineering, training, scoring & evaluating.\r\n",
                "-- exec Initial_Run_Once_Py"
            ],
            "metadata": {
                "azdata_cell_guid": "26a8d27d-483c-4ec1-a180-d3101523bf50"
            },
            "outputs": [],
            "execution_count": null
        },
        {
            "cell_type": "markdown",
            "source": [
                "## [Step 1](https://github.com/microsoft/r-server-hospital-length-of-stay/blob/master/SQLPy/step1_data_processing.sql)\r\n",
                "##### Preprocessing and Cleaning"
            ],
            "metadata": {
                "azdata_cell_guid": "ba405b71-f949-40cf-8dca-67dfa5b918c3"
            }
        },
        {
            "cell_type": "code",
            "source": [
                "EXEC [dbo].[fill_NA_mode_mean] @input='LengthOfStay', @output = 'LoS0';"
            ],
            "metadata": {
                "azdata_cell_guid": "92a3b1e4-4428-42b0-a94f-f006181506fb"
            },
            "outputs": [
                {
                    "output_type": "display_data",
                    "data": {
                        "text/html": "Commands completed successfully."
                    },
                    "metadata": {}
                },
                {
                    "output_type": "display_data",
                    "data": {
                        "text/html": "Total execution time: 00:00:00.110"
                    },
                    "metadata": {}
                }
            ],
            "execution_count": 41
        },
        {
            "cell_type": "markdown",
            "source": [
                "## [Step 2](https://github.com/microsoft/r-server-hospital-length-of-stay/blob/master/SQLPy/step2_feature_engineering.sql)\r\n",
                "##### Feature Engineering ([Diagrams](https://microsoft.github.io/r-server-hospital-length-of-stay/data-scientist.html))"
            ],
            "metadata": {
                "azdata_cell_guid": "13f7d36f-d15b-4d71-8c6d-78d62196dcff"
            }
        },
        {
            "cell_type": "code",
            "source": [
                "EXEC [dbo].[feature_engineering]  @input = 'LoS0', @output = 'LoS', @is_production = '0';\r\n",
                "EXEC [dbo].[get_column_info] @input = 'LoS';"
            ],
            "metadata": {
                "azdata_cell_guid": "dbbd4174-802c-4511-a462-d8af5cb63d57"
            },
            "outputs": [
                {
                    "output_type": "display_data",
                    "data": {
                        "text/html": "Commands completed successfully."
                    },
                    "metadata": {}
                },
                {
                    "output_type": "display_data",
                    "data": {
                        "text/html": "Total execution time: 00:00:00.343"
                    },
                    "metadata": {}
                }
            ],
            "execution_count": 42
        },
        {
            "cell_type": "markdown",
            "source": [
                "## Step 3\n",
                "\n",
                "##### a. [Splitting](https://github.com/microsoft/r-server-hospital-length-of-stay/blob/master/SQLPy/step3a_splitting.sql), b. [Training](https://github.com/microsoft/r-server-hospital-length-of-stay/blob/master/SQLPy/step3b_training.sql), c. [Scoring](https://github.com/microsoft/r-server-hospital-length-of-stay/blob/master/SQLPy/step3c_scoring.sql), d. [Evaluating](https://github.com/microsoft/r-server-hospital-length-of-stay/blob/master/SQLPy/step3d_evaluating.sql)"
            ],
            "metadata": {
                "azdata_cell_guid": "56f8344e-97e5-4eb1-b1a7-f21b8316308c"
            }
        },
        {
            "cell_type": "code",
            "source": [
                "EXEC [dbo].[splitting] @splitting_percent = 70, @input = 'LoS';"
            ],
            "metadata": {
                "azdata_cell_guid": "babcda0e-2f4b-4fd7-9af1-ed558585a6f9"
            },
            "outputs": [
                {
                    "output_type": "display_data",
                    "data": {
                        "text/html": "(70026 rows affected)"
                    },
                    "metadata": {}
                },
                {
                    "output_type": "display_data",
                    "data": {
                        "text/html": "Total execution time: 00:00:00.097"
                    },
                    "metadata": {}
                }
            ],
            "execution_count": 20
        },
        {
            "cell_type": "code",
            "source": [
                "exec [dbo].[train_model] @model_name = 'RF', @dataset_name = 'LoS'; -- Dev svr Total execution time: 00:00:35.689\r\n",
                "select getdate();"
            ],
            "metadata": {
                "azdata_cell_guid": "daf37425-0454-451a-a7a0-2092f8e92f3f"
            },
            "outputs": [],
            "execution_count": null
        },
        {
            "cell_type": "code",
            "source": [
                "select model_name, (datalength(model)/1024)/1024 as MB  from models where model_name = 'RF';\r\n",
                "go\r\n",
                "SELECT last_user_update\r\n",
                "FROM   sys.dm_db_index_usage_stats us\r\n",
                "    JOIN sys.tables t\r\n",
                "        ON t.object_id = us.object_id\r\n",
                "WHERE  database_id = db_id()\r\n",
                "    AND t.object_id = object_id('dbo.models') "
            ],
            "metadata": {
                "azdata_cell_guid": "bd919e30-b261-4ae2-8caa-44deaad6cebd"
            },
            "outputs": [
                {
                    "output_type": "display_data",
                    "data": {
                        "text/html": "Commands completed successfully."
                    },
                    "metadata": {}
                },
                {
                    "output_type": "display_data",
                    "data": {
                        "text/html": "Commands completed successfully."
                    },
                    "metadata": {}
                },
                {
                    "output_type": "display_data",
                    "data": {
                        "text/html": "Total execution time: 00:00:00.130"
                    },
                    "metadata": {}
                },
                {
                    "output_type": "execute_result",
                    "execution_count": 46,
                    "data": {
                        "application/vnd.dataresource+json": {
                            "schema": {
                                "fields": [
                                    {
                                        "name": "model_name"
                                    },
                                    {
                                        "name": "MB"
                                    }
                                ]
                            },
                            "data": [
                                {
                                    "0": "RF",
                                    "1": "2"
                                }
                            ]
                        },
                        "text/html": "<table><tr><th>model_name</th><th>MB</th></tr><tr><td>RF</td><td>2</td></tr></table>"
                    },
                    "metadata": {}
                },
                {
                    "output_type": "execute_result",
                    "execution_count": 46,
                    "data": {
                        "application/vnd.dataresource+json": {
                            "schema": {
                                "fields": [
                                    {
                                        "name": "last_user_update"
                                    }
                                ]
                            },
                            "data": [
                                {
                                    "0": "2021-03-11 19:25:20.960"
                                }
                            ]
                        },
                        "text/html": "<table><tr><th>last_user_update</th></tr><tr><td>2021-03-11 19:25:20.960</td></tr></table>"
                    },
                    "metadata": {}
                }
            ],
            "execution_count": null
        },
        {
            "cell_type": "code",
            "source": [
                "use Hospital_Py\r\n",
                "go\r\n",
                "exec sp_rename 'Forest_Prediction', 'Forest_PredictionBak'"
            ],
            "metadata": {
                "azdata_cell_guid": "7744e03c-2871-4e28-a7e4-ccfafb5c2c18"
            },
            "outputs": [
                {
                    "output_type": "display_data",
                    "data": {
                        "text/html": "Commands completed successfully."
                    },
                    "metadata": {}
                },
                {
                    "output_type": "display_data",
                    "data": {
                        "text/html": "Caution: Changing any part of an object name could break scripts and stored procedures."
                    },
                    "metadata": {}
                },
                {
                    "output_type": "display_data",
                    "data": {
                        "text/html": "Total execution time: 00:00:00.032"
                    },
                    "metadata": {}
                }
            ],
            "execution_count": 1
        },
        {
            "cell_type": "code",
            "source": [
                "SELECT count(*) FROM LoS WHERE ClaimClaimID NOT IN (SELECT ClaimClaimID FROM Train_Id)"
            ],
            "metadata": {
                "azdata_cell_guid": "5f475f9b-839c-4c69-b51f-768acfd84b05"
            },
            "outputs": [
                {
                    "output_type": "display_data",
                    "data": {
                        "text/html": "(1 row affected)"
                    },
                    "metadata": {}
                },
                {
                    "output_type": "display_data",
                    "data": {
                        "text/html": "Total execution time: 00:00:00.742"
                    },
                    "metadata": {}
                },
                {
                    "output_type": "execute_result",
                    "execution_count": 7,
                    "data": {
                        "application/vnd.dataresource+json": {
                            "schema": {
                                "fields": [
                                    {
                                        "name": "(No column name)"
                                    }
                                ]
                            },
                            "data": [
                                {
                                    "0": "29974"
                                }
                            ]
                        },
                        "text/html": "<table><tr><th>(No column name)</th></tr><tr><td>29974</td></tr></table>"
                    },
                    "metadata": {}
                }
            ],
            "execution_count": null
        },
        {
            "cell_type": "code",
            "source": [
                "EXEC [dbo].[score] @model_name = 'RF',\r\n",
                "\t@inquery = 'SELECT * FROM LoS WHERE ClaimClaimID NOT IN (SELECT ClaimClaimID FROM Train_Id)',\r\n",
                "\t@output = 'Forest_Prediction';"
            ],
            "metadata": {
                "azdata_cell_guid": "9ce12764-b220-4390-b4b6-1524ca641ad5"
            },
            "outputs": [
                {
                    "output_type": "display_data",
                    "data": {
                        "text/html": "STDERR message(s) from external script: \nD:\\Program Files\\Microsoft SQL Server\\MSSQL15.MSSQLSERVER\\PYTHON_SERVICES\\lib\\site-packages\\revoscalepy\\functions\\RxDTree.py:91: FutureWarning: Method .as_matrix will be removed in a future version. Use .values instead.\r\n  number_ordered_splits = sum([is_ordered.as_matrix()[0][int(x - 1)] for x in (isplit[:, 0])])\r"
                    },
                    "metadata": {}
                },
                {
                    "output_type": "display_data",
                    "data": {
                        "text/html": "STDOUT message(s) from external script: \nRows Read: 29974, Total Rows Processed: 29974, Total Chunk Time: 1.935 seconds\r\nTotal Rows written: 29974, Total time: 0.606\r\n \r"
                    },
                    "metadata": {}
                },
                {
                    "output_type": "display_data",
                    "data": {
                        "text/html": "Total execution time: 00:00:09.715"
                    },
                    "metadata": {}
                }
            ],
            "execution_count": 2
        },
        {
            "cell_type": "code",
            "source": [
                "select top 20 * from Forest_Prediction"
            ],
            "metadata": {
                "azdata_cell_guid": "fcd80a1a-384e-45ee-9082-9a099583a200"
            },
            "outputs": [
                {
                    "output_type": "display_data",
                    "data": {
                        "text/html": "(20 rows affected)"
                    },
                    "metadata": {}
                },
                {
                    "output_type": "display_data",
                    "data": {
                        "text/html": "Total execution time: 00:00:00.079"
                    },
                    "metadata": {}
                },
                {
                    "output_type": "execute_result",
                    "metadata": {},
                    "execution_count": 1,
                    "data": {
                        "application/vnd.dataresource+json": {
                            "schema": {
                                "fields": [
                                    {
                                        "name": "lengthofstay_Pred"
                                    },
                                    {
                                        "name": "lengthofstay"
                                    },
                                    {
                                        "name": "ClaimClaimID"
                                    }
                                ]
                            },
                            "data": [
                                {
                                    "0": "17.30743474477387",
                                    "1": "9",
                                    "2": "5"
                                },
                                {
                                    "0": "19.11814350187633",
                                    "1": "15",
                                    "2": "7"
                                },
                                {
                                    "0": "30.97463748640614",
                                    "1": "40",
                                    "2": "9"
                                },
                                {
                                    "0": "16.935966505913527",
                                    "1": "4",
                                    "2": "19"
                                },
                                {
                                    "0": "17.30743474477387",
                                    "1": "9",
                                    "2": "21"
                                },
                                {
                                    "0": "16.935966505913527",
                                    "1": "4",
                                    "2": "22"
                                },
                                {
                                    "0": "16.935966505913527",
                                    "1": "7",
                                    "2": "28"
                                },
                                {
                                    "0": "16.935966505913527",
                                    "1": "0",
                                    "2": "30"
                                },
                                {
                                    "0": "17.60621439720507",
                                    "1": "12",
                                    "2": "32"
                                },
                                {
                                    "0": "59.00441803777379",
                                    "1": "71",
                                    "2": "35"
                                },
                                {
                                    "0": "16.935966505913527",
                                    "1": "2",
                                    "2": "53"
                                },
                                {
                                    "0": "21.337629221935554",
                                    "1": "23",
                                    "2": "59"
                                },
                                {
                                    "0": "16.935966505913527",
                                    "1": "7",
                                    "2": "60"
                                },
                                {
                                    "0": "16.935966505913527",
                                    "1": "5",
                                    "2": "64"
                                },
                                {
                                    "0": "16.935966505913527",
                                    "1": "4",
                                    "2": "66"
                                },
                                {
                                    "0": "38.89332193352329",
                                    "1": "50",
                                    "2": "67"
                                },
                                {
                                    "0": "16.935966505913527",
                                    "1": "6",
                                    "2": "68"
                                },
                                {
                                    "0": "46.79910544933255",
                                    "1": "56",
                                    "2": "71"
                                },
                                {
                                    "0": "23.54720870761334",
                                    "1": "28",
                                    "2": "78"
                                },
                                {
                                    "0": "18.696043465509007",
                                    "1": "14",
                                    "2": "80"
                                }
                            ]
                        },
                        "text/html": [
                            "<table>",
                            "<tr><th>lengthofstay_Pred</th><th>lengthofstay</th><th>ClaimClaimID</th></tr>",
                            "<tr><td>17.30743474477387</td><td>9</td><td>5</td></tr>",
                            "<tr><td>19.11814350187633</td><td>15</td><td>7</td></tr>",
                            "<tr><td>30.97463748640614</td><td>40</td><td>9</td></tr>",
                            "<tr><td>16.935966505913527</td><td>4</td><td>19</td></tr>",
                            "<tr><td>17.30743474477387</td><td>9</td><td>21</td></tr>",
                            "<tr><td>16.935966505913527</td><td>4</td><td>22</td></tr>",
                            "<tr><td>16.935966505913527</td><td>7</td><td>28</td></tr>",
                            "<tr><td>16.935966505913527</td><td>0</td><td>30</td></tr>",
                            "<tr><td>17.60621439720507</td><td>12</td><td>32</td></tr>",
                            "<tr><td>59.00441803777379</td><td>71</td><td>35</td></tr>",
                            "<tr><td>16.935966505913527</td><td>2</td><td>53</td></tr>",
                            "<tr><td>21.337629221935554</td><td>23</td><td>59</td></tr>",
                            "<tr><td>16.935966505913527</td><td>7</td><td>60</td></tr>",
                            "<tr><td>16.935966505913527</td><td>5</td><td>64</td></tr>",
                            "<tr><td>16.935966505913527</td><td>4</td><td>66</td></tr>",
                            "<tr><td>38.89332193352329</td><td>50</td><td>67</td></tr>",
                            "<tr><td>16.935966505913527</td><td>6</td><td>68</td></tr>",
                            "<tr><td>46.79910544933255</td><td>56</td><td>71</td></tr>",
                            "<tr><td>23.54720870761334</td><td>28</td><td>78</td></tr>",
                            "<tr><td>18.696043465509007</td><td>14</td><td>80</td></tr>",
                            "</table>"
                        ]
                    }
                }
            ],
            "execution_count": 1
        },
        {
            "cell_type": "markdown",
            "source": [
                "### Train GBT, FT, NN"
            ],
            "metadata": {
                "azdata_cell_guid": "6f4b6085-ed53-48c1-91be-496ba4557aad"
            }
        },
        {
            "cell_type": "code",
            "source": [
                "use Hospital_Py\r\n",
                "go\r\n",
                "set nocount on;\r\n",
                "exec [dbo].[train_model] @model_name = 'GBT', @dataset_name = 'LoS';\r\n",
                "go\r\n",
                "exec [dbo].[train_model] @model_name = 'FT', @dataset_name = 'LoS'; --failed, set max_num_bins\r\n",
                "go\r\n",
                "exec [dbo].[train_model] @model_name = 'NN', @dataset_name = 'LoS'; --failed\r\n",
                "go\r\n",
                ""
            ],
            "metadata": {
                "azdata_cell_guid": "0817dc1f-bd3f-4e0d-82a5-23a24ac81590"
            },
            "outputs": [],
            "execution_count": null
        },
        {
            "cell_type": "code",
            "source": [
                "select model_name, (datalength(model)/1024)/1024 as MB from models;"
            ],
            "metadata": {
                "azdata_cell_guid": "5c12de09-4512-4307-97f3-176672683786"
            },
            "outputs": [
                {
                    "output_type": "display_data",
                    "data": {
                        "text/html": "(2 rows affected)"
                    },
                    "metadata": {}
                },
                {
                    "output_type": "display_data",
                    "data": {
                        "text/html": "Total execution time: 00:00:00.052"
                    },
                    "metadata": {}
                },
                {
                    "output_type": "execute_result",
                    "metadata": {},
                    "execution_count": 3,
                    "data": {
                        "application/vnd.dataresource+json": {
                            "schema": {
                                "fields": [
                                    {
                                        "name": "model_name"
                                    },
                                    {
                                        "name": "MB"
                                    }
                                ]
                            },
                            "data": [
                                {
                                    "0": "RF",
                                    "1": "2"
                                },
                                {
                                    "0": "GBT",
                                    "1": "0"
                                }
                            ]
                        },
                        "text/html": [
                            "<table>",
                            "<tr><th>model_name</th><th>MB</th></tr>",
                            "<tr><td>RF</td><td>2</td></tr>",
                            "<tr><td>GBT</td><td>0</td></tr>",
                            "</table>"
                        ]
                    }
                }
            ],
            "execution_count": 3
        },
        {
            "cell_type": "markdown",
            "source": [
                "### Score GBT, FT, NN"
            ],
            "metadata": {
                "azdata_cell_guid": "10999a05-4685-4816-9bf5-c1be8910302b"
            }
        },
        {
            "cell_type": "code",
            "source": [
                "drop table if exists Boosted_PredictionBak;\r\n",
                "exec sp_rename 'Boosted_Prediction', 'Boosted_PredictionBak';\r\n",
                "exec [dbo].[score] @model_name = 'GBT',\t@inquery = 'SELECT * FROM LoS WHERE ClaimClaimID NOT IN (SELECT ClaimClaimID FROM Train_Id)', @output = 'Boosted_Prediction';\r\n",
                "go \n",
                "-- drop table if exists Fast_PredictionBak;\r\n",
                "-- exec sp_rename 'Fast_Prediction', 'Fast_PredictionBak';\r\n",
                "-- exec [dbo].[score] @model_name = 'FT', @inquery = 'SELECT * FROM LoS WHERE ClaimClaimID NOT IN (SELECT ClaimClaimID FROM Train_Id)', @output = 'Fast_Prediction';\r\n",
                "-- go\r\n",
                "-- drop table if exists NN_PredictionBak;\r\n",
                "-- exec sp_rename 'NN_Prediction', 'NN_PredictionBak';\r\n",
                "-- exec [dbo].[score] @model_name = 'NN', @inquery = 'SELECT * FROM LoS WHERE ClaimClaimID NOT IN (SELECT ClaimClaimID FROM Train_Id)', @output = 'NN_Prediction';\r\n",
                "-- go\n",
                "SELECT top 20 *  FROM [Hospital_Py].[dbo].[Boosted_Prediction]\r\n",
                "-- SELECT top 20 *  FROM [Hospital_Py].[dbo].[Fast_Prediction]\r\n",
                "-- SELECT top 20 *  FROM [Hospital_Py].[dbo].[NN_Prediction]\r\n",
                ""
            ],
            "metadata": {
                "azdata_cell_guid": "48ce7432-5c43-46e0-906c-5e61584d7ecd",
                "tags": []
            },
            "outputs": [
                {
                    "output_type": "display_data",
                    "data": {
                        "text/html": "Caution: Changing any part of an object name could break scripts and stored procedures."
                    },
                    "metadata": {}
                },
                {
                    "output_type": "display_data",
                    "data": {
                        "text/html": "STDERR message(s) from external script: \nD:\\Program Files\\Microsoft SQL Server\\MSSQL15.MSSQLSERVER\\PYTHON_SERVICES\\lib\\site-packages\\revoscalepy\\functions\\RxDTree.py:91: FutureWarning: Method .as_matrix will be removed in a future version. Use .values instead.\r\n  number_ordered_splits = sum([is_ordered.as_matrix()[0][int(x - 1)] for x in (isplit[:, 0])])\r"
                    },
                    "metadata": {}
                },
                {
                    "output_type": "display_data",
                    "data": {
                        "text/html": "STDOUT message(s) from external script: \nRows Read: 29974, Total Rows Processed: 29974, Total Chunk Time: 1.945 seconds\r\nTotal Rows written: 29974, Total time: 0.614\r\n \r"
                    },
                    "metadata": {}
                },
                {
                    "output_type": "display_data",
                    "data": {
                        "text/html": "Commands completed successfully."
                    },
                    "metadata": {}
                },
                {
                    "output_type": "display_data",
                    "data": {
                        "text/html": "Total execution time: 00:00:08.761"
                    },
                    "metadata": {}
                },
                {
                    "output_type": "execute_result",
                    "execution_count": 4,
                    "data": {
                        "application/vnd.dataresource+json": {
                            "schema": {
                                "fields": [
                                    {
                                        "name": "lengthofstay_Pred"
                                    },
                                    {
                                        "name": "lengthofstay"
                                    },
                                    {
                                        "name": "ClaimClaimID"
                                    }
                                ]
                            }
                        }
                    },
                    "metadata": {}
                }
            ],
            "execution_count": 9
        },
        {
            "cell_type": "code",
            "source": [
                "SELECT top 20 *  FROM [Hospital_Py].[dbo].[Boosted_Prediction]"
            ],
            "metadata": {
                "azdata_cell_guid": "275e2254-ec22-4637-b9a0-d4bcbae33203"
            },
            "outputs": [
                {
                    "output_type": "display_data",
                    "data": {
                        "text/html": "(20 rows affected)"
                    },
                    "metadata": {}
                },
                {
                    "output_type": "display_data",
                    "data": {
                        "text/html": "Total execution time: 00:00:00.052"
                    },
                    "metadata": {}
                },
                {
                    "output_type": "execute_result",
                    "metadata": {},
                    "execution_count": 4,
                    "data": {
                        "application/vnd.dataresource+json": {
                            "schema": {
                                "fields": [
                                    {
                                        "name": "lengthofstay_Pred"
                                    },
                                    {
                                        "name": "lengthofstay"
                                    },
                                    {
                                        "name": "ClaimClaimID"
                                    }
                                ]
                            },
                            "data": [
                                {
                                    "0": "25.628452103238345",
                                    "1": "9",
                                    "2": "5"
                                },
                                {
                                    "0": "25.628452103238345",
                                    "1": "15",
                                    "2": "7"
                                },
                                {
                                    "0": "25.628452103238345",
                                    "1": "40",
                                    "2": "9"
                                },
                                {
                                    "0": "25.628452103238345",
                                    "1": "4",
                                    "2": "19"
                                },
                                {
                                    "0": "25.628452103238345",
                                    "1": "9",
                                    "2": "21"
                                },
                                {
                                    "0": "25.628452103238345",
                                    "1": "4",
                                    "2": "22"
                                },
                                {
                                    "0": "25.628452103238345",
                                    "1": "7",
                                    "2": "28"
                                },
                                {
                                    "0": "25.628452103238345",
                                    "1": "0",
                                    "2": "30"
                                },
                                {
                                    "0": "25.628452103238345",
                                    "1": "12",
                                    "2": "32"
                                },
                                {
                                    "0": "41.24410339279123",
                                    "1": "71",
                                    "2": "35"
                                },
                                {
                                    "0": "25.628452103238345",
                                    "1": "2",
                                    "2": "53"
                                },
                                {
                                    "0": "25.628452103238345",
                                    "1": "23",
                                    "2": "59"
                                },
                                {
                                    "0": "25.628452103238345",
                                    "1": "7",
                                    "2": "60"
                                },
                                {
                                    "0": "25.628452103238345",
                                    "1": "5",
                                    "2": "64"
                                },
                                {
                                    "0": "25.628452103238345",
                                    "1": "4",
                                    "2": "66"
                                },
                                {
                                    "0": "25.628452103238345",
                                    "1": "50",
                                    "2": "67"
                                },
                                {
                                    "0": "25.628452103238345",
                                    "1": "6",
                                    "2": "68"
                                },
                                {
                                    "0": "25.628452103238345",
                                    "1": "56",
                                    "2": "71"
                                },
                                {
                                    "0": "25.628452103238345",
                                    "1": "28",
                                    "2": "78"
                                },
                                {
                                    "0": "25.628452103238345",
                                    "1": "14",
                                    "2": "80"
                                }
                            ]
                        },
                        "text/html": [
                            "<table>",
                            "<tr><th>lengthofstay_Pred</th><th>lengthofstay</th><th>ClaimClaimID</th></tr>",
                            "<tr><td>25.628452103238345</td><td>9</td><td>5</td></tr>",
                            "<tr><td>25.628452103238345</td><td>15</td><td>7</td></tr>",
                            "<tr><td>25.628452103238345</td><td>40</td><td>9</td></tr>",
                            "<tr><td>25.628452103238345</td><td>4</td><td>19</td></tr>",
                            "<tr><td>25.628452103238345</td><td>9</td><td>21</td></tr>",
                            "<tr><td>25.628452103238345</td><td>4</td><td>22</td></tr>",
                            "<tr><td>25.628452103238345</td><td>7</td><td>28</td></tr>",
                            "<tr><td>25.628452103238345</td><td>0</td><td>30</td></tr>",
                            "<tr><td>25.628452103238345</td><td>12</td><td>32</td></tr>",
                            "<tr><td>41.24410339279123</td><td>71</td><td>35</td></tr>",
                            "<tr><td>25.628452103238345</td><td>2</td><td>53</td></tr>",
                            "<tr><td>25.628452103238345</td><td>23</td><td>59</td></tr>",
                            "<tr><td>25.628452103238345</td><td>7</td><td>60</td></tr>",
                            "<tr><td>25.628452103238345</td><td>5</td><td>64</td></tr>",
                            "<tr><td>25.628452103238345</td><td>4</td><td>66</td></tr>",
                            "<tr><td>25.628452103238345</td><td>50</td><td>67</td></tr>",
                            "<tr><td>25.628452103238345</td><td>6</td><td>68</td></tr>",
                            "<tr><td>25.628452103238345</td><td>56</td><td>71</td></tr>",
                            "<tr><td>25.628452103238345</td><td>28</td><td>78</td></tr>",
                            "<tr><td>25.628452103238345</td><td>14</td><td>80</td></tr>",
                            "</table>"
                        ]
                    }
                }
            ],
            "execution_count": 4
        },
        {
            "cell_type": "markdown",
            "source": [
                "# 🥊 Realtime Scoring\n",
                "\n",
                "#### [Proc](https://github.com/microsoft/r-server-hospital-length-of-stay/blob/master/SQLPy/partA_train_real_time_scoring_sp.sql) ([errors](https://stackoverflow.com/questions/55643467/dataframe-object-has-no-attribute-str-problem)), [Train](https://github.com/microsoft/r-server-hospital-length-of-stay/blob/master/SQLPy/partB_prepare_for_real_time_scoring.sql), [Score](https://github.com/microsoft/r-server-hospital-length-of-stay/blob/master/SQLPy/partC_real_time_scoring.sql)"
            ],
            "metadata": {
                "azdata_cell_guid": "e2d2c69d-e7e8-4685-a4ea-6b63be5823a3"
            }
        },
        {
            "cell_type": "code",
            "source": [
                "-- My simple proc to serialize the model bin, cause train_model_real_time_scoring errors. \r\n",
                "Use Hospital_Py\r\n",
                "go\r\n",
                "create or alter proc [GetRTSModelRF]   \r\n",
                "as\r\n",
                "declare @info varbinary(max);\r\n",
                "select @info = info from dbo.ColInfo;\r\n",
                "declare @info varbinary(max);\r\n",
                "select @info = info from dbo.ColInfo;\r\n",
                "\r\n",
                "exec sp_execute_external_script @language = N'Python', @script = N' \r\n",
                "import dill\r\n",
                "from numpy import sqrt\r\n",
                "from pandas import DataFrame\r\n",
                "from revoscalepy import rx_set_compute_context, RxSqlServerData, rx_dforest, RxOdbcData, rx_serialize_model, rx_write_object, RxLocalSeq\r\n",
                "from microsoftml import adadelta_optimizer\r\n",
                "\r\n",
                "connection_string = \"Driver=SQL Server;Server=localhost;Database=Hospital_Py;Trusted_Connection=true;\"\r\n",
                "\r\n",
                "column_info = dill.loads(info)\r\n",
                "\r\n",
                "##\tSet training dataset, set features and types.\r\n",
                "\r\n",
                "variables_all = [var for var in column_info]\r\n",
                "#variables_to_remove = [\"eid\", \"vdate\", \"discharged\", \"facid\"]\r\n",
                "variables_to_remove = [\"ClaimClaimID\", \"ClaimDateClosed\", \"ClaimReportedDate\"]\r\n",
                "training_variables = [x for x in variables_all if x not in variables_to_remove]\r\n",
                "LoS_Train = RxSqlServerData(sql_query = \"SELECT ClaimClaimID, {} FROM LoS WHERE ClaimClaimID IN (SELECT ClaimClaimID from Train_Id)\".format(\", \".join(training_variables)),\r\n",
                "                            connection_string = connection_string,\r\n",
                "                            column_info = column_info)\r\n",
                "\r\n",
                "##\tSpecify the variables to keep for the training \r\n",
                "\r\n",
                "#variables_to_remove = [\"eid\", \"vdate\", \"discharged\", \"facid\", \"lengthofstay\"]\r\n",
                "variables_to_remove = [\"ClaimClaimID\", \"ClaimDateClosed\", \"ClaimReportedDate\", \"lengthofstay\"]\r\n",
                "training_variables = [x for x in variables_all if x not in variables_to_remove]\r\n",
                "formula = \"lengthofstay ~ \" + \" + \".join(training_variables)\r\n",
                "\r\n",
                "## Train RF Model\r\n",
                "dest = RxOdbcData(connection_string, table = \"RTS\")\r\n",
                "model = rx_dforest(formula=formula,\r\n",
                "                    data=LoS_Train,\r\n",
                "                    n_tree=40,\r\n",
                "                    cp=0.00005,\r\n",
                "                    min_split=int(sqrt(70000)),\r\n",
                "                    max_num_bins=int(sqrt(70000)),\r\n",
                "                    seed=5)\r\n",
                "serialized_model = rx_serialize_model(model, realtime_scoring_only = True)\r\n",
                "rx_write_object(dest, key_name=\"id\", key=\"RF\", value_name=\"value\", value=serialized_model, serialize=False, compress=None, overwrite=False)'\r\n",
                "\r\n",
                ", @params = N'@info varbinary(max)'\r\n",
                ", @info = @info;\r\n",
                "\r\n",
                "GO\r\n",
                ""
            ],
            "metadata": {
                "azdata_cell_guid": "670a039c-424a-4965-9de6-bdf7b5ebcb27"
            },
            "outputs": [
                {
                    "output_type": "display_data",
                    "data": {
                        "text/html": "Commands completed successfully."
                    },
                    "metadata": {}
                },
                {
                    "output_type": "display_data",
                    "data": {
                        "text/html": "Commands completed successfully."
                    },
                    "metadata": {}
                },
                {
                    "output_type": "display_data",
                    "data": {
                        "text/html": "Total execution time: 00:00:00.005"
                    },
                    "metadata": {}
                }
            ],
            "execution_count": 3
        },
        {
            "cell_type": "code",
            "source": [
                "-- drop table if exists RTSBak;\n",
                "-- go\n",
                "-- exec sp_rename 'RTS', 'RTSBak'\n",
                "go\n",
                "exec GetRTSModelRF; \n",
                "\n",
                "-- Dev server: Total execution time: 00:20:17.325"
            ],
            "metadata": {
                "azdata_cell_guid": "7892fc4b-c4cf-4ecd-bbcd-22859d7352b4"
            },
            "outputs": [],
            "execution_count": null
        },
        {
            "cell_type": "code",
            "source": [
                "select id, (datalength(value)/1024)/1024 as MB from RTS"
            ],
            "metadata": {
                "azdata_cell_guid": "f4f5b921-d774-41c1-a88d-8db9c6ff6c08"
            },
            "outputs": [
                {
                    "output_type": "display_data",
                    "data": {
                        "text/html": "(1 row affected)"
                    },
                    "metadata": {}
                },
                {
                    "output_type": "display_data",
                    "data": {
                        "text/html": "Total execution time: 00:00:00.048"
                    },
                    "metadata": {}
                },
                {
                    "output_type": "execute_result",
                    "metadata": {},
                    "execution_count": 6,
                    "data": {
                        "application/vnd.dataresource+json": {
                            "schema": {
                                "fields": [
                                    {
                                        "name": "id"
                                    },
                                    {
                                        "name": "MB"
                                    }
                                ]
                            },
                            "data": [
                                {
                                    "0": "RF",
                                    "1": "0"
                                }
                            ]
                        },
                        "text/html": [
                            "<table>",
                            "<tr><th>id</th><th>MB</th></tr>",
                            "<tr><td>RF</td><td>0</td></tr>",
                            "</table>"
                        ]
                    }
                }
            ],
            "execution_count": 6
        },
        {
            "cell_type": "code",
            "source": [
                "--- Perform Real Time Scoring on previously trained models\r\n",
                "--- Use 'RF' for Random Forest, use 'GBT' for b_trees, use 'FT' for Fast Trees, or use 'NN' for Neural Network\r\n",
                "--- Results are written to RTS_Prediction\r\n",
                "\r\n",
                "--- NOTE: Run prepare_real_time_scoring.sql before running this script.\r\n",
                "\r\n",
                "Use Hospital_Py\r\n",
                "GO\r\n",
                "\r\n",
                "--- Real Time Scoring\r\n",
                "\r\n",
                "--\tGet the trained model\r\n",
                "DECLARE @model_name VARCHAR(3) = 'RF'\r\n",
                "DECLARE @model VARBINARY(max) = (SELECT value FROM [dbo].[RTS] WHERE id = @model_name);\t\t\r\n",
                "\r\n",
                "--- Real Time Scoring is meant for small scoring request, which is why we select the top 10 for this example.\r\n",
                "DECLARE @inputData VARCHAR(max);\r\n",
                "SET @inputData = 'SELECT TOP (10) ClaimClaimID, ClaimClaimStatusID, ClaimStatusDescription, StatesStateCode, LossTypeDescription, PolicyVersionAttributesFormType, \r\n",
                "\tPolicyVersionAttributesOccupancyType, PolicyVersionAttributesCoverageA, ClaimMoneyLosses, ClaimMoneyLAE, ClaimRoomsWithDamage, \r\n",
                "\tnumber_of_issues, lengthofstay\r\n",
                "FROM LoS WHERE \tClaimClaimID NOT IN (SELECT ClaimClaimID from Train_Id) ORDER BY ClaimClaimID';\r\n",
                "\r\n",
                "DECLARE @output_table TABLE(lengthofstay_Pred FLOAT);\r\n",
                "INSERT @output_table EXEC [dbo].[sp_rxPredict] @model = @model, @inputData = @inputData;\r\n",
                "DROP TABLE IF EXISTS RTS_PredictionBak;\r\n",
                "exec sp_rename 'RTS_Prediction', 'RTS_PredictionBak';\r\n",
                "SELECT * INTO RTS_Prediction FROM @output_table"
            ],
            "metadata": {
                "azdata_cell_guid": "179a7192-7cbc-4b96-983e-ebf454b0653d"
            },
            "outputs": [
                {
                    "output_type": "display_data",
                    "data": {
                        "text/html": "Commands completed successfully."
                    },
                    "metadata": {}
                },
                {
                    "output_type": "display_data",
                    "data": {
                        "text/html": "(10 rows affected)"
                    },
                    "metadata": {}
                },
                {
                    "output_type": "display_data",
                    "data": {
                        "text/html": "Caution: Changing any part of an object name could break scripts and stored procedures."
                    },
                    "metadata": {}
                },
                {
                    "output_type": "display_data",
                    "data": {
                        "text/html": "(10 rows affected)"
                    },
                    "metadata": {}
                },
                {
                    "output_type": "display_data",
                    "data": {
                        "text/html": "Total execution time: 00:00:00.216"
                    },
                    "metadata": {}
                }
            ],
            "execution_count": 22
        },
        {
            "cell_type": "code",
            "source": [
                "select top 10 ClaimClaimID, LengthOfStay from LoS Order by ClaimClaimID\n",
                "select * from RTS_Prediction"
            ],
            "metadata": {
                "azdata_cell_guid": "cd8a5e83-5a12-413f-aeff-f2c81aad2b9f"
            },
            "outputs": [
                {
                    "output_type": "display_data",
                    "data": {
                        "text/html": "(10 rows affected)"
                    },
                    "metadata": {}
                },
                {
                    "output_type": "display_data",
                    "data": {
                        "text/html": "(10 rows affected)"
                    },
                    "metadata": {}
                },
                {
                    "output_type": "display_data",
                    "data": {
                        "text/html": "Total execution time: 00:00:00.153"
                    },
                    "metadata": {}
                },
                {
                    "output_type": "execute_result",
                    "metadata": {},
                    "execution_count": 8,
                    "data": {
                        "application/vnd.dataresource+json": {
                            "schema": {
                                "fields": [
                                    {
                                        "name": "ClaimClaimID"
                                    },
                                    {
                                        "name": "LengthOfStay"
                                    }
                                ]
                            },
                            "data": [
                                {
                                    "0": "1",
                                    "1": "5"
                                },
                                {
                                    "0": "2",
                                    "1": "19"
                                },
                                {
                                    "0": "3",
                                    "1": "4"
                                },
                                {
                                    "0": "4",
                                    "1": "16"
                                },
                                {
                                    "0": "5",
                                    "1": "9"
                                },
                                {
                                    "0": "6",
                                    "1": "4"
                                },
                                {
                                    "0": "7",
                                    "1": "15"
                                },
                                {
                                    "0": "8",
                                    "1": "25"
                                },
                                {
                                    "0": "9",
                                    "1": "40"
                                },
                                {
                                    "0": "10",
                                    "1": "1"
                                }
                            ]
                        },
                        "text/html": [
                            "<table>",
                            "<tr><th>ClaimClaimID</th><th>LengthOfStay</th></tr>",
                            "<tr><td>1</td><td>5</td></tr>",
                            "<tr><td>2</td><td>19</td></tr>",
                            "<tr><td>3</td><td>4</td></tr>",
                            "<tr><td>4</td><td>16</td></tr>",
                            "<tr><td>5</td><td>9</td></tr>",
                            "<tr><td>6</td><td>4</td></tr>",
                            "<tr><td>7</td><td>15</td></tr>",
                            "<tr><td>8</td><td>25</td></tr>",
                            "<tr><td>9</td><td>40</td></tr>",
                            "<tr><td>10</td><td>1</td></tr>",
                            "</table>"
                        ]
                    }
                },
                {
                    "output_type": "execute_result",
                    "metadata": {},
                    "execution_count": 8,
                    "data": {
                        "application/vnd.dataresource+json": {
                            "schema": {
                                "fields": [
                                    {
                                        "name": "lengthofstay_Pred"
                                    }
                                ]
                            },
                            "data": [
                                {
                                    "0": "24.000814132212433"
                                },
                                {
                                    "0": "281.10619473986014"
                                },
                                {
                                    "0": "204.47810635851164"
                                },
                                {
                                    "0": "53.38754342384557"
                                },
                                {
                                    "0": "57.4645801226574"
                                },
                                {
                                    "0": "475.1654887397811"
                                },
                                {
                                    "0": "239.28146462247355"
                                },
                                {
                                    "0": "45.95507795975456"
                                },
                                {
                                    "0": "57.4645801226574"
                                },
                                {
                                    "0": "305.4491891191269"
                                }
                            ]
                        },
                        "text/html": [
                            "<table>",
                            "<tr><th>lengthofstay_Pred</th></tr>",
                            "<tr><td>24.000814132212433</td></tr>",
                            "<tr><td>281.10619473986014</td></tr>",
                            "<tr><td>204.47810635851164</td></tr>",
                            "<tr><td>53.38754342384557</td></tr>",
                            "<tr><td>57.4645801226574</td></tr>",
                            "<tr><td>475.1654887397811</td></tr>",
                            "<tr><td>239.28146462247355</td></tr>",
                            "<tr><td>45.95507795975456</td></tr>",
                            "<tr><td>57.4645801226574</td></tr>",
                            "<tr><td>305.4491891191269</td></tr>",
                            "</table>"
                        ]
                    }
                }
            ],
            "execution_count": 8
        },
        {
            "cell_type": "code",
            "source": [
                "SELECT TOP 10 * FROM LoS WHERE ClaimClaimID NOT IN (SELECT ClaimClaimID from Train_Id) ORDER BY ClaimClaimID"
            ],
            "metadata": {
                "azdata_cell_guid": "4c8fd888-34c2-4371-9859-be05d764fbd3"
            },
            "outputs": [
                {
                    "output_type": "display_data",
                    "data": {
                        "text/html": "(10 rows affected)"
                    },
                    "metadata": {}
                },
                {
                    "output_type": "display_data",
                    "data": {
                        "text/html": "Total execution time: 00:00:00.338"
                    },
                    "metadata": {}
                },
                {
                    "output_type": "execute_result",
                    "metadata": {},
                    "execution_count": 10,
                    "data": {
                        "application/vnd.dataresource+json": {
                            "schema": {
                                "fields": [
                                    {
                                        "name": "ClaimClaimID"
                                    },
                                    {
                                        "name": "ClaimReportedDate"
                                    },
                                    {
                                        "name": "ClaimClaimStatusID"
                                    },
                                    {
                                        "name": "ClaimStatusDescription"
                                    },
                                    {
                                        "name": "StatesStateCode"
                                    },
                                    {
                                        "name": "LossTypeDescription"
                                    },
                                    {
                                        "name": "PolicyVersionAttributesFormType"
                                    },
                                    {
                                        "name": "PolicyVersionAttributesOccupancyType"
                                    },
                                    {
                                        "name": "ClaimMoneyReserve"
                                    },
                                    {
                                        "name": "PolicyVersionAttributesCoverageA"
                                    },
                                    {
                                        "name": "ClaimMoneyLosses"
                                    },
                                    {
                                        "name": "ClaimMoneyLAE"
                                    },
                                    {
                                        "name": "ClaimRoomsWithDamage"
                                    },
                                    {
                                        "name": "number_of_issues"
                                    },
                                    {
                                        "name": "ClaimDateClosed"
                                    },
                                    {
                                        "name": "lengthofstay"
                                    }
                                ]
                            },
                            "data": [
                                {
                                    "0": "5",
                                    "1": "2018-05-07",
                                    "2": "2",
                                    "3": "Closed",
                                    "4": "FL",
                                    "5": "Loss Assessment",
                                    "6": "HO6",
                                    "7": "Owner",
                                    "8": "0.00",
                                    "9": "-0.5354209646243084",
                                    "10": "-0.3640850311065803",
                                    "11": "-0.255113842707539",
                                    "12": "-0.7552492612632524",
                                    "13": "0",
                                    "14": "2018-05-16",
                                    "15": "9"
                                },
                                {
                                    "0": "7",
                                    "1": "2019-02-04",
                                    "2": "2",
                                    "3": "Closed",
                                    "4": "FL",
                                    "5": "Loss Assessment",
                                    "6": "HO6",
                                    "7": "Owner",
                                    "8": "0.00",
                                    "9": "-0.5354209646243084",
                                    "10": "-0.3640850311065803",
                                    "11": "-0.255113842707539",
                                    "12": "-0.7552492612632524",
                                    "13": "0",
                                    "14": "2019-02-19",
                                    "15": "15"
                                },
                                {
                                    "0": "9",
                                    "1": "2018-06-06",
                                    "2": "2",
                                    "3": "Closed",
                                    "4": "FL",
                                    "5": "Loss Assessment",
                                    "6": "HO6",
                                    "7": "Owner",
                                    "8": "0.00",
                                    "9": "-0.5354209646243084",
                                    "10": "-0.3640850311065803",
                                    "11": "-0.255113842707539",
                                    "12": "-0.7552492612632524",
                                    "13": "0",
                                    "14": "2018-07-16",
                                    "15": "40"
                                },
                                {
                                    "0": "19",
                                    "1": "2018-05-11",
                                    "2": "2",
                                    "3": "Closed",
                                    "4": "FL",
                                    "5": "Loss Assessment",
                                    "6": "HO6",
                                    "7": "Owner",
                                    "8": "0.00",
                                    "9": "-0.5354209646243084",
                                    "10": "-0.3640850311065803",
                                    "11": "-0.255113842707539",
                                    "12": "-0.7552492612632524",
                                    "13": "0",
                                    "14": "2018-05-15",
                                    "15": "4"
                                },
                                {
                                    "0": "21",
                                    "1": "2018-11-27",
                                    "2": "2",
                                    "3": "Closed",
                                    "4": "FL",
                                    "5": "Loss Assessment",
                                    "6": "HO6",
                                    "7": "Owner",
                                    "8": "0.00",
                                    "9": "-0.5354209646243084",
                                    "10": "-0.3640850311065803",
                                    "11": "-0.255113842707539",
                                    "12": "-0.7552492612632524",
                                    "13": "0",
                                    "14": "2018-12-06",
                                    "15": "9"
                                },
                                {
                                    "0": "22",
                                    "1": "2019-02-25",
                                    "2": "2",
                                    "3": "Closed",
                                    "4": "FL",
                                    "5": "Loss Assessment",
                                    "6": "HO6",
                                    "7": "Owner",
                                    "8": "0.00",
                                    "9": "-0.5354209646243084",
                                    "10": "-0.3640850311065803",
                                    "11": "-0.255113842707539",
                                    "12": "-0.7552492612632524",
                                    "13": "0",
                                    "14": "2019-03-01",
                                    "15": "4"
                                },
                                {
                                    "0": "28",
                                    "1": "2018-06-19",
                                    "2": "2",
                                    "3": "Closed",
                                    "4": "FL",
                                    "5": "Loss Assessment",
                                    "6": "HO6",
                                    "7": "Owner",
                                    "8": "0.00",
                                    "9": "-0.5354209646243084",
                                    "10": "-0.3640850311065803",
                                    "11": "-0.255113842707539",
                                    "12": "-0.7552492612632524",
                                    "13": "0",
                                    "14": "2018-06-26",
                                    "15": "7"
                                },
                                {
                                    "0": "30",
                                    "1": "2018-06-06",
                                    "2": "2",
                                    "3": "Closed",
                                    "4": "FL",
                                    "5": "Loss Assessment",
                                    "6": "HO6",
                                    "7": "Owner",
                                    "8": "0.00",
                                    "9": "-0.5354209646243084",
                                    "10": "-0.3640850311065803",
                                    "11": "-0.255113842707539",
                                    "12": "-0.7552492612632524",
                                    "13": "0",
                                    "14": "2018-06-06",
                                    "15": "0"
                                },
                                {
                                    "0": "32",
                                    "1": "2019-01-02",
                                    "2": "2",
                                    "3": "Closed",
                                    "4": "FL",
                                    "5": "Loss Assessment",
                                    "6": "HO6",
                                    "7": "Owner",
                                    "8": "0.00",
                                    "9": "-0.5354209646243084",
                                    "10": "-0.3640850311065803",
                                    "11": "-0.255113842707539",
                                    "12": "-0.7552492612632524",
                                    "13": "0",
                                    "14": "2019-01-14",
                                    "15": "12"
                                },
                                {
                                    "0": "35",
                                    "1": "2018-12-10",
                                    "2": "2",
                                    "3": "Closed",
                                    "4": "FL",
                                    "5": "Loss Assessment",
                                    "6": "HO6",
                                    "7": "Owner",
                                    "8": "0.00",
                                    "9": "-0.5354209646243084",
                                    "10": "-0.3640850311065803",
                                    "11": "-0.255113842707539",
                                    "12": "-0.7552492612632524",
                                    "13": "0",
                                    "14": "2019-02-19",
                                    "15": "71"
                                }
                            ]
                        },
                        "text/html": [
                            "<table>",
                            "<tr><th>ClaimClaimID</th><th>ClaimReportedDate</th><th>ClaimClaimStatusID</th><th>ClaimStatusDescription</th><th>StatesStateCode</th><th>LossTypeDescription</th><th>PolicyVersionAttributesFormType</th><th>PolicyVersionAttributesOccupancyType</th><th>ClaimMoneyReserve</th><th>PolicyVersionAttributesCoverageA</th><th>ClaimMoneyLosses</th><th>ClaimMoneyLAE</th><th>ClaimRoomsWithDamage</th><th>number_of_issues</th><th>ClaimDateClosed</th><th>lengthofstay</th></tr>",
                            "<tr><td>5</td><td>2018-05-07</td><td>2</td><td>Closed</td><td>FL</td><td>Loss Assessment</td><td>HO6</td><td>Owner</td><td>0.00</td><td>-0.5354209646243084</td><td>-0.3640850311065803</td><td>-0.255113842707539</td><td>-0.7552492612632524</td><td>0</td><td>2018-05-16</td><td>9</td></tr>",
                            "<tr><td>7</td><td>2019-02-04</td><td>2</td><td>Closed</td><td>FL</td><td>Loss Assessment</td><td>HO6</td><td>Owner</td><td>0.00</td><td>-0.5354209646243084</td><td>-0.3640850311065803</td><td>-0.255113842707539</td><td>-0.7552492612632524</td><td>0</td><td>2019-02-19</td><td>15</td></tr>",
                            "<tr><td>9</td><td>2018-06-06</td><td>2</td><td>Closed</td><td>FL</td><td>Loss Assessment</td><td>HO6</td><td>Owner</td><td>0.00</td><td>-0.5354209646243084</td><td>-0.3640850311065803</td><td>-0.255113842707539</td><td>-0.7552492612632524</td><td>0</td><td>2018-07-16</td><td>40</td></tr>",
                            "<tr><td>19</td><td>2018-05-11</td><td>2</td><td>Closed</td><td>FL</td><td>Loss Assessment</td><td>HO6</td><td>Owner</td><td>0.00</td><td>-0.5354209646243084</td><td>-0.3640850311065803</td><td>-0.255113842707539</td><td>-0.7552492612632524</td><td>0</td><td>2018-05-15</td><td>4</td></tr>",
                            "<tr><td>21</td><td>2018-11-27</td><td>2</td><td>Closed</td><td>FL</td><td>Loss Assessment</td><td>HO6</td><td>Owner</td><td>0.00</td><td>-0.5354209646243084</td><td>-0.3640850311065803</td><td>-0.255113842707539</td><td>-0.7552492612632524</td><td>0</td><td>2018-12-06</td><td>9</td></tr>",
                            "<tr><td>22</td><td>2019-02-25</td><td>2</td><td>Closed</td><td>FL</td><td>Loss Assessment</td><td>HO6</td><td>Owner</td><td>0.00</td><td>-0.5354209646243084</td><td>-0.3640850311065803</td><td>-0.255113842707539</td><td>-0.7552492612632524</td><td>0</td><td>2019-03-01</td><td>4</td></tr>",
                            "<tr><td>28</td><td>2018-06-19</td><td>2</td><td>Closed</td><td>FL</td><td>Loss Assessment</td><td>HO6</td><td>Owner</td><td>0.00</td><td>-0.5354209646243084</td><td>-0.3640850311065803</td><td>-0.255113842707539</td><td>-0.7552492612632524</td><td>0</td><td>2018-06-26</td><td>7</td></tr>",
                            "<tr><td>30</td><td>2018-06-06</td><td>2</td><td>Closed</td><td>FL</td><td>Loss Assessment</td><td>HO6</td><td>Owner</td><td>0.00</td><td>-0.5354209646243084</td><td>-0.3640850311065803</td><td>-0.255113842707539</td><td>-0.7552492612632524</td><td>0</td><td>2018-06-06</td><td>0</td></tr>",
                            "<tr><td>32</td><td>2019-01-02</td><td>2</td><td>Closed</td><td>FL</td><td>Loss Assessment</td><td>HO6</td><td>Owner</td><td>0.00</td><td>-0.5354209646243084</td><td>-0.3640850311065803</td><td>-0.255113842707539</td><td>-0.7552492612632524</td><td>0</td><td>2019-01-14</td><td>12</td></tr>",
                            "<tr><td>35</td><td>2018-12-10</td><td>2</td><td>Closed</td><td>FL</td><td>Loss Assessment</td><td>HO6</td><td>Owner</td><td>0.00</td><td>-0.5354209646243084</td><td>-0.3640850311065803</td><td>-0.255113842707539</td><td>-0.7552492612632524</td><td>0</td><td>2019-02-19</td><td>71</td></tr>",
                            "</table>"
                        ]
                    }
                }
            ],
            "execution_count": 10
        },
        {
            "cell_type": "code",
            "source": [
                "select min(claimreporteddate) StartDate, max(claimreporteddate) EndDate from LengthOfStay"
            ],
            "metadata": {
                "azdata_cell_guid": "eab6952d-2557-4ad1-a6a8-8512ed4dab8a"
            },
            "outputs": [
                {
                    "output_type": "display_data",
                    "data": {
                        "text/html": "(1 row affected)"
                    },
                    "metadata": {}
                },
                {
                    "output_type": "display_data",
                    "data": {
                        "text/html": "Total execution time: 00:00:00.163"
                    },
                    "metadata": {}
                },
                {
                    "output_type": "execute_result",
                    "metadata": {},
                    "execution_count": 11,
                    "data": {
                        "application/vnd.dataresource+json": {
                            "schema": {
                                "fields": [
                                    {
                                        "name": "StartDate"
                                    },
                                    {
                                        "name": "EndDate"
                                    }
                                ]
                            },
                            "data": [
                                {
                                    "0": "2018-02-15",
                                    "1": "2021-02-09"
                                }
                            ]
                        },
                        "text/html": [
                            "<table>",
                            "<tr><th>StartDate</th><th>EndDate</th></tr>",
                            "<tr><td>2018-02-15</td><td>2021-02-09</td></tr>",
                            "</table>"
                        ]
                    }
                }
            ],
            "execution_count": 11
        },
        {
            "cell_type": "code",
            "source": [
                "exec do_native_predict 43714"
            ],
            "metadata": {
                "azdata_cell_guid": "bfff85a7-6c51-4959-9c77-713a5f30c932"
            },
            "outputs": [
                {
                    "output_type": "display_data",
                    "data": {
                        "text/html": "(1 row affected)"
                    },
                    "metadata": {}
                },
                {
                    "output_type": "display_data",
                    "data": {
                        "text/html": "(1 row affected)"
                    },
                    "metadata": {}
                },
                {
                    "output_type": "display_data",
                    "data": {
                        "text/html": "Elapsed Time for 1 row scoring is : 10000 microseconds."
                    },
                    "metadata": {}
                },
                {
                    "output_type": "display_data",
                    "data": {
                        "text/html": "Total execution time: 00:00:00.101"
                    },
                    "metadata": {}
                },
                {
                    "output_type": "execute_result",
                    "metadata": {},
                    "execution_count": 19,
                    "data": {
                        "application/vnd.dataresource+json": {
                            "schema": {
                                "fields": [
                                    {
                                        "name": "LengthOfStay_Pred"
                                    }
                                ]
                            },
                            "data": [
                                {
                                    "0": "305.4491891191269"
                                }
                            ]
                        },
                        "text/html": [
                            "<table>",
                            "<tr><th>LengthOfStay_Pred</th></tr>",
                            "<tr><td>305.4491891191269</td></tr>",
                            "</table>"
                        ]
                    }
                }
            ],
            "execution_count": 19
        }
    ]
}